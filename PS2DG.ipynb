{
 "cells": [
  {
   "cell_type": "code",
   "execution_count": 1,
   "metadata": {
    "collapsed": true
   },
   "outputs": [],
   "source": [
    "from nltk.tree import Tree\n",
    "import codecs\n",
    "import re"
   ]
  },
  {
   "cell_type": "code",
   "execution_count": 2,
   "metadata": {
    "collapsed": true
   },
   "outputs": [],
   "source": [
    "# load data\n",
    "f = codecs.open(\"ctb.bracketed\",\"r\",\"utf-8\")\n",
    "sents = []\n",
    "posit = []\n",
    "while True:\n",
    "    s = f.readline()\n",
    "    if s == '':\n",
    "        break\n",
    "    if s[0] == '#':\n",
    "        posit += [s.strip()]\n",
    "    else:\n",
    "        sents += [s.strip()]"
   ]
  },
  {
   "cell_type": "code",
   "execution_count": 3,
   "metadata": {
    "collapsed": true
   },
   "outputs": [],
   "source": [
    "# trans to trees\n",
    "trees = []\n",
    "for t in sents:\n",
    "    tr = Tree.fromstring(t)\n",
    "    trees += [tr]"
   ]
  },
  {
   "cell_type": "code",
   "execution_count": 4,
   "metadata": {
    "collapsed": true
   },
   "outputs": [],
   "source": [
    "import re\n",
    "\n",
    "\n",
    "class MyTree:\n",
    "    def __init__(self, tree, parent_node=None, current_layer=0):\n",
    "        self.parent = parent_node\n",
    "        self.layer = current_layer\n",
    "        if isinstance(tree, str):\n",
    "            self.label = tree\n",
    "            self.terminal = True\n",
    "            self.children = None\n",
    "            self.n_children = 0\n",
    "            return\n",
    "        self.label = tree.label()\n",
    "        self.terminal = False\n",
    "        self.children = []\n",
    "        for son in tree:\n",
    "            _node = MyTree(son, self, current_layer + 1)\n",
    "            self.children += [_node]\n",
    "        self.n_children = len(self.children)\n",
    "        return\n",
    "\n",
    "    def __getitem__(self, i):\n",
    "        return self.children[i]\n",
    "\n",
    "    def labelDependencyTree(self, current_n_words=1):\n",
    "        # out nodes:\n",
    "        if self.terminal:\n",
    "            self.id = current_n_words\n",
    "            return current_n_words + 1\n",
    "        for son in self.children:\n",
    "            current_n_words = son.labelDependencyTree(current_n_words)\n",
    "        self.id = self.findHead().id\n",
    "        return current_n_words\n",
    "\n",
    "    def tryFetchHead(self, try_labels, reverse=False):\n",
    "        if isinstance(try_labels, str):\n",
    "            try_labels = (try_labels,)\n",
    "        if reverse:\n",
    "            for lab in try_labels:\n",
    "                for i in reversed(range(self.n_children)):\n",
    "                    if re.match(lab, self.children[i].label):\n",
    "                        return self.children[i]\n",
    "        else:\n",
    "            for lab in try_labels:\n",
    "                for t in self.children:\n",
    "                    if re.match(lab, t.label):\n",
    "                        return t\n",
    "        return None\n",
    "\n",
    "    def findHead(self):\n",
    "        if self.terminal:\n",
    "            raise AttributeError(\"cannot call self.findHead() on terminal nodes.\")\n",
    "        if len(self.children) == 1:\n",
    "            return self.children[0]\n",
    "\n",
    "        t = self.label\n",
    "\n",
    "        # coordination\n",
    "        head = self.tryFetchHead(\"CC\", reverse=True)\n",
    "        if head:\n",
    "            return head\n",
    "\n",
    "        template = {\n",
    "            \"VP\": (\"V|BA|LB\", \"ADVP\", \"QP\", \"IP\", \"NP\"),\n",
    "            \"VCD|VCP|VNV|VPT|VRD|VSB\": \"V\",\n",
    "            \"TYPO\": \"NOI\",\n",
    "            \"N\": \"NP|NN|NR|NT|QP|CLP|PN|UCP\",\n",
    "            \"LCP\": \"LCP|LC\",\n",
    "            \"DNP\": \"DEG|DEC\",\n",
    "            \"DVP\": \"DEV|DEG\",\n",
    "            \"DP\": \"DP|CLP|QP\",\n",
    "            \"CLP\": \"M|CLP\",\n",
    "            \"ADJP\": \"ADJP|JJ\",\n",
    "            \"ADVP\": \"ADVP|AD\",\n",
    "            \"FRAG\": \"NN|VV\",\n",
    "            \"INTJ\": \"IJ\",\n",
    "            \"PP\": \"P$|PP\",\n",
    "            \"PRN\": \"N|VP|IP|ADJP|QP|UCP\",\n",
    "            \"QP\": (\"QP|CLP\", \"CD\"),\n",
    "            \"UCP\": \"UCP|NP|IP|PP\",\n",
    "            \"IP\": (\"IP|V\", \"NP|PP\"),\n",
    "            \"CP\": \"CP|IP|V\"\n",
    "        }\n",
    "\n",
    "        reverse = (\"VCD|VCP|VNV|VPT|VRD|VSB\", \"N\",\n",
    "                   \"CLP\", \"ADJP\", \"ADVP\", \"FRAG\", \"INTJ\",\n",
    "                   \"PRN\", \"QP\", \"UCP\", \"IP\", \"CP\")\n",
    "\n",
    "        for current_label in template.keys():\n",
    "            if re.match(current_label, t):\n",
    "                boolReverse = (current_label in reverse)\n",
    "                return self.tryFetchHead(template[current_label], reverse=boolReverse)\n",
    "\n",
    "    def findDependencyParent(self):\n",
    "        if self.terminal:\n",
    "            t = self.parent\n",
    "            while t.id == self.id:\n",
    "                t = t.parent\n",
    "                if t is None:\n",
    "                    self.dependencyParent = 0\n",
    "                    return\n",
    "            self.dependencyParent = t.id\n",
    "            return\n",
    "        for son in self.children:\n",
    "            son.findDependencyParent()\n",
    "\n",
    "    def printDependencyConLL(self):\n",
    "        if self.terminal:\n",
    "            return \"%d\\t%s\\t_\\t_\\t%s\\t_\\t%d\\t_\\t_\\t_\\n\" % (\n",
    "            self.id, self.label, self.parent.label, self.dependencyParent)\n",
    "        s = \"\"\n",
    "        for son in self.children:\n",
    "            s += son.printDependencyConLL()\n",
    "        return s\n"
   ]
  },
  {
   "cell_type": "code",
   "execution_count": 5,
   "metadata": {},
   "outputs": [],
   "source": [
    "mytrees = []\n",
    "s = \"\"\n",
    "for i, tree in enumerate(trees):\n",
    "    _mytree = MyTree(tree)\n",
    "    _mytree.labelDependencyTree()\n",
    "    _mytree.findDependencyParent()\n",
    "    s += (posit[i] + '\\n' + _mytree.printDependencyConLL() + '\\n')\n",
    "    mytrees += [_mytree]"
   ]
  },
  {
   "cell_type": "code",
   "execution_count": 6,
   "metadata": {
    "collapsed": true
   },
   "outputs": [],
   "source": [
    "f = codecs.open(\"output.conll\", \"w\", \"utf-8\")\n",
    "f.write(s)\n",
    "f.close()"
   ]
  },
  {
   "cell_type": "code",
   "execution_count": 7,
   "metadata": {
    "collapsed": true,
    "scrolled": false
   },
   "outputs": [],
   "source": [
    "# useful function to check for exceptions\n",
    "def traverse(tree, pat, cat, key=lambda x: x > 0):\n",
    "    try:\n",
    "        t = tree.label().split('-')[0]\n",
    "    except AttributeError:\n",
    "        return\n",
    "    p = 0\n",
    "    flag = 0\n",
    "    for r in tree:\n",
    "        try:\n",
    "            if re.match(pat, r.label()):\n",
    "                p += 1\n",
    "        except AttributeError:\n",
    "            return\n",
    "    if re.match(cat, t) and len(tree) > 1 and key(p):\n",
    "        print(tree)\n",
    "        print(\"\\n\")\n",
    "        return tree\n",
    "    for r in tree:\n",
    "        haha = traverse(r)\n",
    "        if haha:\n",
    "            return haha\n",
    "    return"
   ]
  },
  {
   "cell_type": "code",
   "execution_count": null,
   "metadata": {
    "collapsed": true
   },
   "outputs": [],
   "source": []
  }
 ],
 "metadata": {
  "kernelspec": {
   "display_name": "Python 3",
   "language": "python",
   "name": "python3"
  },
  "language_info": {
   "codemirror_mode": {
    "name": "ipython",
    "version": 3
   },
   "file_extension": ".py",
   "mimetype": "text/x-python",
   "name": "python",
   "nbconvert_exporter": "python",
   "pygments_lexer": "ipython3",
   "version": "3.6.3"
  }
 },
 "nbformat": 4,
 "nbformat_minor": 2
}
